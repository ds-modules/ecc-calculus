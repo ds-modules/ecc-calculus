{
 "cells": [
  {
   "cell_type": "code",
   "execution_count": 1,
   "id": "0295f3e6-10b2-4e3b-acdc-fdc9a2785022",
   "metadata": {},
   "outputs": [],
   "source": [
    "import numpy as np\n",
    "import matplotlib.pyplot as plt\n",
    "from matplotlib.patches import Rectangle\n",
    "from ipywidgets import interact\n",
    "import ipywidgets as widgets\n",
    "from sympy import Symbol, Eq, solve_undetermined_coeffs, apart"
   ]
  },
  {
   "cell_type": "code",
   "execution_count": 2,
   "id": "af08c73c-059d-4577-bdc3-2b418d52c0d3",
   "metadata": {},
   "outputs": [],
   "source": [
    "def f(x):\n",
    "    return x * (x - 1) * (x - 2)"
   ]
  },
  {
   "cell_type": "code",
   "execution_count": 3,
   "id": "9dd6d7ac-3699-4a72-b87b-13dcb4a49f57",
   "metadata": {},
   "outputs": [
    {
     "data": {
      "application/vnd.jupyter.widget-view+json": {
       "model_id": "159e464e95f446a887dfb18d4796e330",
       "version_major": 2,
       "version_minor": 0
      },
      "text/plain": [
       "interactive(children=(Dropdown(description='approx_type', options=('Left Endpoints', 'Right Endpoints', 'Cente…"
      ]
     },
     "metadata": {},
     "output_type": "display_data"
    },
    {
     "data": {
      "text/plain": [
       "<function __main__.render_riemann_sum(approx_type, num_rects)>"
      ]
     },
     "execution_count": 3,
     "metadata": {},
     "output_type": "execute_result"
    }
   ],
   "source": [
    "approx_type_dropdown = widgets.Dropdown(options=['Left Endpoints', 'Right Endpoints', 'Center Points', 'Trapezoids'])\n",
    "num_rects_slider = widgets.IntSlider(description='Points', min=1, max=50, step=1)\n",
    "\n",
    "def render_riemann_sum(approx_type, num_rects):\n",
    "    fig, ax = plt.subplots()\n",
    "    \n",
    "    xs = np.arange(0, 2.51, 0.05)\n",
    "    ys = f(xs)\n",
    "    ax.plot(xs, ys)\n",
    "\n",
    "    rectangle_width = 2.5 / num_rects\n",
    "    rectangle_xs = np.arange(0, 2.5, rectangle_width)\n",
    "    area_approx = 0\n",
    "    for x in rectangle_xs:\n",
    "        if approx_type == 'Trapezoids':\n",
    "            x1 = x\n",
    "            x2 = x + rectangle_width\n",
    "            y1 = f(x1)\n",
    "            y2 = f(x2)\n",
    "\n",
    "            color = 'r' if y1 + y2 < 0 else 'b'\n",
    "            ax.add_patch(plt.Polygon([[x1, 0], [x1, y1], [x2, y2], [x2, 0]], alpha=0.5, facecolor=color))\n",
    "            area_approx += 0.5 * rectangle_width * (y1 + y2)\n",
    "        else:\n",
    "            match approx_type:\n",
    "                case 'Left Endpoints':\n",
    "                    y = f(x)\n",
    "                case 'Right Endpoints':\n",
    "                    y = f(x + rectangle_width)\n",
    "                case 'Center Points':\n",
    "                    y = f(x + rectangle_width * 0.5)\n",
    "            color = 'r' if y < 0 else 'b'\n",
    "            ax.add_patch(Rectangle((x, 0), rectangle_width, y, alpha=0.5, facecolor=color))\n",
    "            area_approx += rectangle_width * y\n",
    "\n",
    "    print('approximated area', area_approx)\n",
    "    actual_area = 0.25 * 2.5 ** 4 - 2.5 ** 3 + 2.5 ** 2\n",
    "    print('actual area', actual_area)\n",
    "    print('error', area_approx - actual_area)\n",
    "\n",
    "\n",
    "interact(render_riemann_sum, approx_type = approx_type_dropdown, num_rects=num_rects_slider)"
   ]
  },
  {
   "cell_type": "markdown",
   "id": "08bfee69-aad1-4367-998c-a57266ed155f",
   "metadata": {},
   "source": [
    "# Partial Fractions\n",
    "\n",
    "This example was copied from [Wikipedia](https://en.wikipedia.org/wiki/Partial_fraction_decomposition).\n",
    "\n",
    "For example, we want to decompose:\n",
    "$$\n",
    "f(x) = \\frac{1}{x^2 + 2x - 3}\n",
    "$$\n",
    "\n",
    "First, we factor:\n",
    "$$\n",
    "q(x) = x^2 + 2x - 3 = (x + 3)(x - 1)\n",
    "$$\n",
    "\n",
    "So we have the PFD:\n",
    "$$\n",
    "f(x) = \\frac{1}{x^2 + 2x - 3} = \\frac{A}{x + 3} + \\frac{B}{x - 1}\n",
    "$$\n",
    "\n",
    "Giving us the polynomial identity:\n",
    "$$\n",
    "\\begin{align*}\n",
    "1 &= A(x - 1) + B(x + 3) \\\\\n",
    "1 &= Ax - A + Bx + 3B \\\\\n",
    "0x + 1 &= (A + B)x + (-A + 3B) \\\\\n",
    "\\implies \\\\\n",
    "0 &= A + B \\\\\n",
    "1 &= -A + 3B\n",
    "\\end{align*}\n",
    "$$\n",
    "\n",
    "Which we can solve using SymPy:"
   ]
  },
  {
   "cell_type": "code",
   "execution_count": 4,
   "id": "721777d1-cfef-47ea-baf4-c197360dcaff",
   "metadata": {},
   "outputs": [
    {
     "data": {
      "text/plain": [
       "{A: -1/4, B: 1/4}"
      ]
     },
     "execution_count": 4,
     "metadata": {},
     "output_type": "execute_result"
    }
   ],
   "source": [
    "A = Symbol('A')\n",
    "B = Symbol('B')\n",
    "x = Symbol('x')\n",
    "solve_undetermined_coeffs(Eq(1, A * (x - 1) + B * (x + 3)), [A, B], x)"
   ]
  },
  {
   "cell_type": "markdown",
   "id": "f62c09da-e91f-4d17-976f-15915add046b",
   "metadata": {},
   "source": [
    "[Docs for `solve_undteremined_coeffs`](https://docs.sympy.org/latest/modules/solvers/solvers.html#sympy.solvers.solvers.solve_undetermined_coeffs)"
   ]
  },
  {
   "cell_type": "markdown",
   "id": "a3c4b5a4-9202-4a52-9411-b5470ad0000b",
   "metadata": {},
   "source": [
    "We can also have SymPy perform the entire PFD but this probably defeats the purpose:"
   ]
  },
  {
   "cell_type": "code",
   "execution_count": 5,
   "id": "73b34578-d035-4478-90bf-9f845685ebf8",
   "metadata": {},
   "outputs": [
    {
     "data": {
      "text/latex": [
       "$\\displaystyle - \\frac{1}{4 \\left(x + 3\\right)} + \\frac{1}{4 \\left(x - 1\\right)}$"
      ],
      "text/plain": [
       "-1/(4*(x + 3)) + 1/(4*(x - 1))"
      ]
     },
     "execution_count": 5,
     "metadata": {},
     "output_type": "execute_result"
    }
   ],
   "source": [
    "apart(1 / (x**2 + 2*x - 3))"
   ]
  },
  {
   "cell_type": "markdown",
   "id": "6031f696-f5d7-4527-bcaa-eac740e5e80b",
   "metadata": {},
   "source": [
    "$$\n",
    "\\frac{1}{(x-1)(x+2)^2} = \\frac{A}{x-1} + \\frac{B}{x+2} + \\frac{C}{(x+2)^2}\n",
    "$$\n",
    "\n",
    "$$\n",
    "\\frac{1}{(x-1)(x^2 + 2x + 5)} = \\frac{A}{x-1} + \\frac{Bx + C}{x^2 + 2x + 5}\n",
    "$$\n",
    "\n",
    "$$\n",
    "\\frac{1}{(x-1)(x^2 + 2x + 5)^2} = \\frac{A}{x - 1} + \\frac{Bx + C}{x^2 + 2x + 5} + \\frac{Dx + E}{(x^2 + 2x + 5)^2}\n",
    "$$"
   ]
  },
  {
   "cell_type": "markdown",
   "id": "c018f3d0-10ae-4967-a6f7-af3cf1e88030",
   "metadata": {},
   "source": [
    "## question 1\n",
    "\n",
    "$$\n",
    "1 = A(x+2)^2 + B(x-1)(x+2) + C(x-1)\n",
    "$$"
   ]
  },
  {
   "cell_type": "code",
   "execution_count": 7,
   "id": "98d02974-52e9-41ce-b19b-ec64951eabd7",
   "metadata": {},
   "outputs": [
    {
     "data": {
      "text/plain": [
       "{A: 1/9, B: -1/9, C: -1/3}"
      ]
     },
     "execution_count": 7,
     "metadata": {},
     "output_type": "execute_result"
    }
   ],
   "source": [
    "C = Symbol('C')\n",
    "solve_undetermined_coeffs(Eq(1, A * (x + 2) ** 2 + B * (x - 1) * (x + 2) + C * (x-1)), [A, B, C], x)"
   ]
  },
  {
   "cell_type": "markdown",
   "id": "a93bfdba-bb03-422b-8216-36aab03d742d",
   "metadata": {},
   "source": [
    "## question 3"
   ]
  },
  {
   "cell_type": "code",
   "execution_count": 8,
   "id": "eb6ae974-e097-4021-8b8d-95af821b4db0",
   "metadata": {},
   "outputs": [
    {
     "data": {
      "text/plain": [
       "{A: 1/64, B: -1/64, C: -3/64, D: -1/8, E: -3/8}"
      ]
     },
     "execution_count": 8,
     "metadata": {},
     "output_type": "execute_result"
    }
   ],
   "source": [
    "D = Symbol('D')\n",
    "E = Symbol('E')\n",
    "\n",
    "solve_undetermined_coeffs(Eq(1, A * (x ** 2 + 2 * x + 5) ** 2 + (B * x + C) * (x - 1) * (x ** 2 + 2 * x + 5) + (D * x + E) * (x-1)), [A, B, C, D, E], x)"
   ]
  }
 ],
 "metadata": {
  "kernelspec": {
   "display_name": "Python 3 (ipykernel)",
   "language": "python",
   "name": "python3"
  },
  "language_info": {
   "codemirror_mode": {
    "name": "ipython",
    "version": 3
   },
   "file_extension": ".py",
   "mimetype": "text/x-python",
   "name": "python",
   "nbconvert_exporter": "python",
   "pygments_lexer": "ipython3",
   "version": "3.12.7"
  }
 },
 "nbformat": 4,
 "nbformat_minor": 5
}
